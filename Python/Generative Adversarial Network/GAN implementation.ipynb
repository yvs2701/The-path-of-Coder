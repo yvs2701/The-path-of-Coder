{
  "cells": [
    {
      "attachments": {},
      "cell_type": "markdown",
      "metadata": {
        "id": "RMkjAdXQxW1v"
      },
      "source": [
        "### Setup"
      ]
    },
    {
      "cell_type": "code",
      "execution_count": 1,
      "metadata": {
        "id": "H88fNCXQwTsr"
      },
      "outputs": [],
      "source": [
        "!pip install torch"
      ]
    },
    {
      "attachments": {},
      "cell_type": "markdown",
      "metadata": {
        "id": "Onea4skFxNSE"
      },
      "source": [
        "### Preparing training data\n",
        "The training data is composed of pairs (x<sub>1</sub>, x<sub>2</sub>) so that x<sub>2</sub> consists of the value of the sine of x<sub>1</sub> for x<sub>2</sub> in the interval from 0 to 2π \\\n",
        "(0 to 2π so that the sin wave is complete)"
      ]
    },
    {
      "cell_type": "code",
      "execution_count": 2,
      "metadata": {
        "id": "Rj1N4Z6WxCR4"
      },
      "outputs": [],
      "source": [
        "import math\n",
        "import torch\n",
        "from torch import nn\n",
        "\n",
        "torch.manual_seed(111)\n",
        "train_data_length = 1024\n",
        "\n",
        "train_data = torch.zeros((train_data_length, 2))\n",
        "train_data[:, 0] = 2 * math.pi * torch.rand(train_data_length)\n",
        "train_data[:, 1] = torch.sin(train_data[:, 0])\n",
        "\n",
        "train_labels = torch.zeros(train_data_length)\n",
        "train_set = [(train_data[i], train_labels[i]) for i in range(train_data_length)]"
      ]
    },
    {
      "cell_type": "code",
      "execution_count": 3,
      "metadata": {
        "colab": {
          "base_uri": "https://localhost:8080/",
          "height": 447
        },
        "id": "17BWoGd4xKMO",
        "outputId": "ac6fa291-e664-44f2-fa34-fc3d669a8a06"
      },
      "outputs": [
        {
          "data": {
            "text/plain": [
              "[<matplotlib.lines.Line2D at 0x7f2d1d588ca0>]"
            ]
          },
          "execution_count": 3,
          "metadata": {},
          "output_type": "execute_result"
        },
        {
          "data": {
            "image/png": "[encoded data removed]",
            "text/plain": [
              "<Figure size 640x480 with 1 Axes>"
            ]
          },
          "metadata": {},
          "output_type": "display_data"
        }
      ],
      "source": [
        "import matplotlib.pyplot as plt\n",
        "\n",
        "plt.plot(train_data[:, 0], train_data[:, 1], \".\")"
      ]
    },
    {
      "attachments": {},
      "cell_type": "markdown",
      "metadata": {
        "id": "Y-PZYxjm1u1s"
      },
      "source": [
        "### Preparing training and testing samples for the models"
      ]
    },
    {
      "cell_type": "code",
      "execution_count": 4,
      "metadata": {
        "id": "JTlDMGiTy_NW"
      },
      "outputs": [],
      "source": [
        "batch_size = 32\n",
        "train_loader = torch.utils.data.DataLoader(train_set, batch_size=batch_size, shuffle=True) # Training Data\n",
        "latent_space_samples = torch.randn(train_data_length, 2) # Testing Data"
      ]
    },
    {
      "attachments": {},
      "cell_type": "markdown",
      "metadata": {
        "id": "72QMjKR5ztsP"
      },
      "source": [
        "### Implementing the Discriminator"
      ]
    },
    {
      "cell_type": "code",
      "execution_count": 5,
      "metadata": {
        "id": "C6be4vUlzM_4"
      },
      "outputs": [],
      "source": [
        "class Discriminator(nn.Module):\n",
        "  def __init__(self):\n",
        "    super().__init__()\n",
        "\n",
        "    self.model = nn.Sequential(\n",
        "      nn.Linear(2, 256),\n",
        "      nn.ReLU(),\n",
        "      nn.Dropout(0.3),\n",
        "      nn.Linear(256, 128),\n",
        "      nn.ReLU(),\n",
        "      nn.Dropout(0.3),\n",
        "      nn.Linear(128, 64),\n",
        "      nn.ReLU(),\n",
        "      nn.Dropout(0.3),\n",
        "      nn.Linear(64, 1),\n",
        "      nn.Sigmoid(),\n",
        "    )\n",
        "\n",
        "  def forward(self, x):\n",
        "    output = self.model(x)\n",
        "    return output\n",
        "\n",
        "discriminator = Discriminator()"
      ]
    },
    {
      "attachments": {},
      "cell_type": "markdown",
      "metadata": {
        "id": "4wP37Y0HzqQF"
      },
      "source": [
        "### Implementing the Generator"
      ]
    },
    {
      "cell_type": "code",
      "execution_count": 6,
      "metadata": {
        "id": "uxbe9d1fzlWT"
      },
      "outputs": [],
      "source": [
        "class Generator(nn.Module):\n",
        "    def __init__(self):\n",
        "        super().__init__()\n",
        "\n",
        "        self.model = nn.Sequential(\n",
        "            nn.Linear(2, 16),\n",
        "            nn.ReLU(),\n",
        "            nn.Linear(16, 32),\n",
        "            nn.ReLU(),\n",
        "            nn.Linear(32, 2),\n",
        "        )\n",
        "\n",
        "    def forward(self, x):\n",
        "        output = self.model(x)\n",
        "        return output\n",
        "\n",
        "generator = Generator()"
      ]
    },
    {
      "attachments": {},
      "cell_type": "markdown",
      "metadata": {
        "id": "ed6m_2m6ACJ7"
      },
      "source": [
        "### Train the model"
      ]
    },
    {
      "cell_type": "code",
      "execution_count": 7,
      "metadata": {
        "colab": {
          "base_uri": "https://localhost:8080/",
          "height": 452
        },
        "id": "yh1lX8q9z2Yt",
        "outputId": "fb9a255b-9bee-45ce-871b-de9cc758ec72"
      },
      "outputs": [
        {
          "data": {
            "image/png": "[encoded data removed]",
            "text/plain": [
              "<Figure size 640x480 with 1 Axes>"
            ]
          },
          "metadata": {},
          "output_type": "display_data"
        }
      ],
      "source": [
        "from time import sleep\n",
        "from IPython.display import clear_output\n",
        "\n",
        "lr = 0.0001\n",
        "num_epochs = 500\n",
        "loss_function = nn.BCELoss()\n",
        "\n",
        "optimizer_discriminator = torch.optim.Adam(discriminator.parameters(), lr=lr)\n",
        "optimizer_generator = torch.optim.Adam(generator.parameters(), lr=lr)\n",
        "\n",
        "loss_values = \"\"\n",
        "for epoch in range(1, num_epochs + 1):\n",
        "  for n, (real_samples, _) in enumerate(train_loader):\n",
        "    # Data for training the discriminator\n",
        "    real_samples_labels = torch.ones((batch_size, 1))\n",
        "    latent_space_samples = torch.randn((batch_size, 2))\n",
        "    generated_samples = generator(latent_space_samples)\n",
        "    generated_samples_labels = torch.zeros((batch_size, 1))\n",
        "\n",
        "    all_samples = torch.cat((real_samples, generated_samples))\n",
        "    all_samples_labels = torch.cat((real_samples_labels, generated_samples_labels))\n",
        "\n",
        "    # Training the discriminator\n",
        "    discriminator.zero_grad()\n",
        "    output_discriminator = discriminator(all_samples)\n",
        "    \n",
        "    # Discriminator loss\n",
        "    loss_discriminator = loss_function(output_discriminator, all_samples_labels)\n",
        "    loss_discriminator.backward()\n",
        "    optimizer_discriminator.step()\n",
        "\n",
        "    # Data for training the generator\n",
        "    latent_space_samples = torch.randn((batch_size, 2))\n",
        "\n",
        "    # Training the generator\n",
        "    generator.zero_grad()\n",
        "    generated_samples = generator(latent_space_samples)\n",
        "    output_discriminator_generated = discriminator(generated_samples)\n",
        "\n",
        "    # Generator loss\n",
        "    loss_generator = loss_function(output_discriminator_generated, real_samples_labels)\n",
        "    loss_generator.backward()\n",
        "    optimizer_generator.step()\n",
        "\n",
        "    # Show loss and visualize the outputs\n",
        "    if (epoch % 5 == 0) and (n == batch_size - 1):\n",
        "      clear_output(wait=True)\n",
        "      loss_values += f\"Epoch: {epoch} Loss in D.: {loss_discriminator}\\n\" + f\"Epoch: {epoch} Loss in G.: {loss_generator}\\n\" + \"--------------------\\n\"\n",
        "      generated_samples = generated_samples.detach() # converts into a normal tensor (which can be converted to numpy)\n",
        "      plt.title(f\"Output of Generator at epoch: {epoch}\")\n",
        "      plt.plot(generated_samples[:, 0], generated_samples[:, 1], \".\")\n",
        "      plt.show()\n",
        "      sleep(0.1)"
      ]
    },
    {
      "attachments": {},
      "cell_type": "markdown",
      "metadata": {
        "id": "zDhlyKmG0g-d"
      },
      "source": [
        "### Testing the model"
      ]
    },
    {
      "cell_type": "code",
      "execution_count": 7,
      "metadata": {
        "colab": {
          "base_uri": "https://localhost:8080/",
          "height": 1000
        },
        "id": "284dzWgy0jwR",
        "outputId": "626c0a49-2e9e-4c1c-d0da-c1d9bd228e79"
      },
      "outputs": [
        {
          "name": "stdout",
          "output_type": "stream",
          "text": [
            "Epoch: 10 Loss in D.: 0.28041309118270874\n",
            "Epoch: 10 Loss in G.: 2.0232841968536377\n",
            "--------------------\n",
            "Epoch: 20 Loss in D.: 0.4833296537399292\n",
            "Epoch: 20 Loss in G.: 1.3987178802490234\n",
            "--------------------\n",
            "Epoch: 30 Loss in D.: 0.40394213795661926\n",
            "Epoch: 30 Loss in G.: 1.1115317344665527\n",
            "--------------------\n",
            "Epoch: 40 Loss in D.: 0.3382267951965332\n",
            "Epoch: 40 Loss in G.: 1.1963694095611572\n",
            "--------------------\n",
            "Epoch: 50 Loss in D.: 0.5464051961898804\n",
            "Epoch: 50 Loss in G.: 1.1169973611831665\n",
            "--------------------\n",
            "Epoch: 60 Loss in D.: 0.5526493191719055\n",
            "Epoch: 60 Loss in G.: 1.0221797227859497\n",
            "--------------------\n",
            "Epoch: 70 Loss in D.: 0.5971188545227051\n",
            "Epoch: 70 Loss in G.: 0.8288434743881226\n",
            "--------------------\n",
            "Epoch: 80 Loss in D.: 0.6406172513961792\n",
            "Epoch: 80 Loss in G.: 0.7929569482803345\n",
            "--------------------\n",
            "Epoch: 90 Loss in D.: 0.6573036909103394\n",
            "Epoch: 90 Loss in G.: 0.7523266077041626\n",
            "--------------------\n",
            "Epoch: 100 Loss in D.: 0.6357570290565491\n",
            "Epoch: 100 Loss in G.: 0.8103227615356445\n",
            "--------------------\n",
            "Epoch: 110 Loss in D.: 0.6295651197433472\n",
            "Epoch: 110 Loss in G.: 0.8023914694786072\n",
            "--------------------\n",
            "Epoch: 120 Loss in D.: 0.6814900040626526\n",
            "Epoch: 120 Loss in G.: 0.8024063110351562\n",
            "--------------------\n",
            "Epoch: 130 Loss in D.: 0.6686870455741882\n",
            "Epoch: 130 Loss in G.: 0.7349368929862976\n",
            "--------------------\n",
            "Epoch: 140 Loss in D.: 0.6266259551048279\n",
            "Epoch: 140 Loss in G.: 0.7631155252456665\n",
            "--------------------\n",
            "Epoch: 150 Loss in D.: 0.6692836284637451\n",
            "Epoch: 150 Loss in G.: 0.7272109985351562\n",
            "--------------------\n",
            "Epoch: 160 Loss in D.: 0.6834351420402527\n",
            "Epoch: 160 Loss in G.: 0.722486674785614\n",
            "--------------------\n",
            "Epoch: 170 Loss in D.: 0.6769113540649414\n",
            "Epoch: 170 Loss in G.: 0.7473424673080444\n",
            "--------------------\n",
            "Epoch: 180 Loss in D.: 0.6960071921348572\n",
            "Epoch: 180 Loss in G.: 0.7682391405105591\n",
            "--------------------\n",
            "Epoch: 190 Loss in D.: 0.6640801429748535\n",
            "Epoch: 190 Loss in G.: 0.7064895033836365\n",
            "--------------------\n",
            "Epoch: 200 Loss in D.: 0.7124485969543457\n",
            "Epoch: 200 Loss in G.: 0.7407938241958618\n",
            "--------------------\n",
            "Epoch: 210 Loss in D.: 0.716400146484375\n",
            "Epoch: 210 Loss in G.: 0.6978955268859863\n",
            "--------------------\n",
            "Epoch: 220 Loss in D.: 0.7031056880950928\n",
            "Epoch: 220 Loss in G.: 0.7201569080352783\n",
            "--------------------\n",
            "Epoch: 230 Loss in D.: 0.7027705311775208\n",
            "Epoch: 230 Loss in G.: 0.6849778294563293\n",
            "--------------------\n",
            "Epoch: 240 Loss in D.: 0.6985541582107544\n",
            "Epoch: 240 Loss in G.: 0.7191581130027771\n",
            "--------------------\n",
            "Epoch: 250 Loss in D.: 0.6869572997093201\n",
            "Epoch: 250 Loss in G.: 0.7239645719528198\n",
            "--------------------\n",
            "Epoch: 260 Loss in D.: 0.674033522605896\n",
            "Epoch: 260 Loss in G.: 0.7207162976264954\n",
            "--------------------\n",
            "Epoch: 270 Loss in D.: 0.6688672304153442\n",
            "Epoch: 270 Loss in G.: 0.6771617531776428\n",
            "--------------------\n",
            "Epoch: 280 Loss in D.: 0.6858639717102051\n",
            "Epoch: 280 Loss in G.: 0.7075750231742859\n",
            "--------------------\n",
            "Epoch: 290 Loss in D.: 0.661714494228363\n",
            "Epoch: 290 Loss in G.: 0.7027780413627625\n",
            "--------------------\n",
            "Epoch: 300 Loss in D.: 0.6862871050834656\n",
            "Epoch: 300 Loss in G.: 0.6904646158218384\n",
            "--------------------\n",
            "Epoch: 310 Loss in D.: 0.6909542083740234\n",
            "Epoch: 310 Loss in G.: 0.6921521425247192\n",
            "--------------------\n",
            "Epoch: 320 Loss in D.: 0.6954538226127625\n",
            "Epoch: 320 Loss in G.: 0.7040263414382935\n",
            "--------------------\n",
            "Epoch: 330 Loss in D.: 0.6845576763153076\n",
            "Epoch: 330 Loss in G.: 0.6779646277427673\n",
            "--------------------\n",
            "Epoch: 340 Loss in D.: 0.6937639713287354\n",
            "Epoch: 340 Loss in G.: 0.6861384510993958\n",
            "--------------------\n",
            "Epoch: 350 Loss in D.: 0.7037403583526611\n",
            "Epoch: 350 Loss in G.: 0.6998526453971863\n",
            "--------------------\n",
            "Epoch: 360 Loss in D.: 0.7043795585632324\n",
            "Epoch: 360 Loss in G.: 0.7110617160797119\n",
            "--------------------\n",
            "Epoch: 370 Loss in D.: 0.6912906169891357\n",
            "Epoch: 370 Loss in G.: 0.7080097794532776\n",
            "--------------------\n",
            "Epoch: 380 Loss in D.: 0.7049537897109985\n",
            "Epoch: 380 Loss in G.: 0.7024732828140259\n",
            "--------------------\n",
            "Epoch: 390 Loss in D.: 0.688772976398468\n",
            "Epoch: 390 Loss in G.: 0.7166756391525269\n",
            "--------------------\n",
            "Epoch: 400 Loss in D.: 0.7077542543411255\n",
            "Epoch: 400 Loss in G.: 0.6741542220115662\n",
            "--------------------\n",
            "Epoch: 410 Loss in D.: 0.6792500019073486\n",
            "Epoch: 410 Loss in G.: 0.7639708518981934\n",
            "--------------------\n",
            "Epoch: 420 Loss in D.: 0.6960064768791199\n",
            "Epoch: 420 Loss in G.: 0.7010254859924316\n",
            "--------------------\n",
            "Epoch: 430 Loss in D.: 0.7004885673522949\n",
            "Epoch: 430 Loss in G.: 0.7022135257720947\n",
            "--------------------\n",
            "Epoch: 440 Loss in D.: 0.6845929622650146\n",
            "Epoch: 440 Loss in G.: 0.708145022392273\n",
            "--------------------\n",
            "Epoch: 450 Loss in D.: 0.70361328125\n",
            "Epoch: 450 Loss in G.: 0.6928916573524475\n",
            "--------------------\n",
            "Epoch: 460 Loss in D.: 0.6883544325828552\n",
            "Epoch: 460 Loss in G.: 0.6859121918678284\n",
            "--------------------\n",
            "Epoch: 470 Loss in D.: 0.6938267946243286\n",
            "Epoch: 470 Loss in G.: 0.702507734298706\n",
            "--------------------\n",
            "Epoch: 480 Loss in D.: 0.7014393210411072\n",
            "Epoch: 480 Loss in G.: 0.690159022808075\n",
            "--------------------\n",
            "Epoch: 490 Loss in D.: 0.6971520185470581\n",
            "Epoch: 490 Loss in G.: 0.6910147070884705\n",
            "--------------------\n",
            "Epoch: 500 Loss in D.: 0.6895493865013123\n",
            "Epoch: 500 Loss in G.: 0.6849005818367004\n",
            "--------------------\n",
            "Epoch: 510 Loss in D.: 0.6764348149299622\n",
            "Epoch: 510 Loss in G.: 0.6727244853973389\n",
            "--------------------\n",
            "Epoch: 520 Loss in D.: 0.66981041431427\n",
            "Epoch: 520 Loss in G.: 0.6836315989494324\n",
            "--------------------\n",
            "Epoch: 530 Loss in D.: 0.6835764646530151\n",
            "Epoch: 530 Loss in G.: 0.7000698447227478\n",
            "--------------------\n",
            "Epoch: 540 Loss in D.: 0.693109393119812\n",
            "Epoch: 540 Loss in G.: 0.6846480965614319\n",
            "--------------------\n",
            "Epoch: 550 Loss in D.: 0.680294394493103\n",
            "Epoch: 550 Loss in G.: 0.7054799795150757\n",
            "--------------------\n",
            "Epoch: 560 Loss in D.: 0.6883703470230103\n",
            "Epoch: 560 Loss in G.: 0.7106409668922424\n",
            "--------------------\n",
            "Epoch: 570 Loss in D.: 0.687741219997406\n",
            "Epoch: 570 Loss in G.: 0.7216390371322632\n",
            "--------------------\n",
            "Epoch: 580 Loss in D.: 0.6897536516189575\n",
            "Epoch: 580 Loss in G.: 0.6929678916931152\n",
            "--------------------\n",
            "Epoch: 590 Loss in D.: 0.6913245916366577\n",
            "Epoch: 590 Loss in G.: 0.7192431688308716\n",
            "--------------------\n",
            "Epoch: 600 Loss in D.: 0.6965091228485107\n",
            "Epoch: 600 Loss in G.: 0.6933716535568237\n",
            "--------------------\n",
            "Epoch: 610 Loss in D.: 0.7049348950386047\n",
            "Epoch: 610 Loss in G.: 0.6998359560966492\n",
            "--------------------\n",
            "Epoch: 620 Loss in D.: 0.6794055700302124\n",
            "Epoch: 620 Loss in G.: 0.6962190270423889\n",
            "--------------------\n",
            "Epoch: 630 Loss in D.: 0.6811267733573914\n",
            "Epoch: 630 Loss in G.: 0.6985068321228027\n",
            "--------------------\n",
            "Epoch: 640 Loss in D.: 0.690454363822937\n",
            "Epoch: 640 Loss in G.: 0.6876640915870667\n",
            "--------------------\n",
            "Epoch: 650 Loss in D.: 0.6805670857429504\n",
            "Epoch: 650 Loss in G.: 0.6997390985488892\n",
            "--------------------\n",
            "Epoch: 660 Loss in D.: 0.6990447044372559\n",
            "Epoch: 660 Loss in G.: 0.697715699672699\n",
            "--------------------\n",
            "Epoch: 670 Loss in D.: 0.6992771029472351\n",
            "Epoch: 670 Loss in G.: 0.68504798412323\n",
            "--------------------\n",
            "Epoch: 680 Loss in D.: 0.6958308815956116\n",
            "Epoch: 680 Loss in G.: 0.7061376571655273\n",
            "--------------------\n",
            "Epoch: 690 Loss in D.: 0.6862460970878601\n",
            "Epoch: 690 Loss in G.: 0.7055883407592773\n",
            "--------------------\n",
            "Epoch: 700 Loss in D.: 0.6894960403442383\n",
            "Epoch: 700 Loss in G.: 0.6948513984680176\n",
            "--------------------\n",
            "Epoch: 710 Loss in D.: 0.6779049038887024\n",
            "Epoch: 710 Loss in G.: 0.696747899055481\n",
            "--------------------\n",
            "Epoch: 720 Loss in D.: 0.6933224201202393\n",
            "Epoch: 720 Loss in G.: 0.6810519695281982\n",
            "--------------------\n",
            "Epoch: 730 Loss in D.: 0.68779456615448\n",
            "Epoch: 730 Loss in G.: 0.6900713443756104\n",
            "--------------------\n",
            "Epoch: 740 Loss in D.: 0.6879367232322693\n",
            "Epoch: 740 Loss in G.: 0.6878076195716858\n",
            "--------------------\n",
            "Epoch: 750 Loss in D.: 0.6996027827262878\n",
            "Epoch: 750 Loss in G.: 0.7102437019348145\n",
            "--------------------\n",
            "Epoch: 760 Loss in D.: 0.7023343443870544\n",
            "Epoch: 760 Loss in G.: 0.7007191777229309\n",
            "--------------------\n",
            "Epoch: 770 Loss in D.: 0.6805645227432251\n",
            "Epoch: 770 Loss in G.: 0.6774215698242188\n",
            "--------------------\n",
            "Epoch: 780 Loss in D.: 0.7060146331787109\n",
            "Epoch: 780 Loss in G.: 0.6867931485176086\n",
            "--------------------\n",
            "Epoch: 790 Loss in D.: 0.6868152022361755\n",
            "Epoch: 790 Loss in G.: 0.7024300694465637\n",
            "--------------------\n",
            "Epoch: 800 Loss in D.: 0.6872893571853638\n",
            "Epoch: 800 Loss in G.: 0.6946720480918884\n",
            "--------------------\n",
            "\n"
          ]
        },
        {
          "data": {
            "text/plain": [
              "[<matplotlib.lines.Line2D at 0x7f229b6b7790>]"
            ]
          },
          "execution_count": 7,
          "metadata": {},
          "output_type": "execute_result"
        },
        {
          "data": {
            "image/png": "[encoded data removed]",
            "text/plain": [
              "<Figure size 640x480 with 1 Axes>"
            ]
          },
          "metadata": {},
          "output_type": "display_data"
        }
      ],
      "source": [
        "# Loss at various epochs\n",
        "print(loss_values)\n",
        "\n",
        "latent_space_samples = torch.randn(train_data_length, 2)\n",
        "generated_samples = generator(latent_space_samples)\n",
        "\n",
        "generated_samples = generated_samples.detach()\n",
        "plt.plot(generated_samples[:, 0], generated_samples[:, 1], \".\")"
      ]
    },
    {
      "attachments": {},
      "cell_type": "markdown",
      "metadata": {
        "id": "UoEWAOs5AFub"
      },
      "source": [
        "### How GAN learns:\n",
        "<img src=\"./GAN training 500 epochs.gif\" alt=\"GAN training 500 epochs\">"
      ]
    }
  ],
  "metadata": {
    "colab": {
      "provenance": []
    },
    "kernelspec": {
      "display_name": "Python 3",
      "name": "python3"
    },
    "language_info": {
      "name": "python"
    }
  },
  "nbformat": 4,
  "nbformat_minor": 0
}
