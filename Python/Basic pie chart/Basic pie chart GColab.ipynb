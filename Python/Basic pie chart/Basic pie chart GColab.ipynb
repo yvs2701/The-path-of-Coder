{
  "nbformat": 4,
  "nbformat_minor": 0,
  "metadata": {
    "colab": {
      "name": "Welcome To Colaboratory",
      "provenance": [],
      "collapsed_sections": [],
      "toc_visible": true
    },
    "kernelspec": {
      "display_name": "Python 3",
      "name": "python3"
    }
  },
  "cells": [
    {
      "cell_type": "markdown",
      "metadata": {
        "id": "Ck-DRCKzLh7u"
      },
      "source": [
        "# **A simple Data visualization program.**\n",
        "Trying out Google Colab..."
      ]
    },
    {
      "cell_type": "code",
      "metadata": {
        "id": "9EB1-X4EL1ry"
      },
      "source": [
        "import matplotlib.pyplot as plt"
      ],
      "execution_count": null,
      "outputs": []
    },
    {
      "cell_type": "markdown",
      "metadata": {
        "id": "h47VPLsaOW6O"
      },
      "source": [
        "After importing matplotlib let's define colors and labels:"
      ]
    },
    {
      "cell_type": "code",
      "metadata": {
        "id": "aFKrDhHdOc4D"
      },
      "source": [
        "colors = ['gold', 'green', 'lightskyblue', 'blue']\n",
        "labels = ['Aristocrats', 'Nature lovers', 'Deserters', 'Beach Lovers'] # random data, makes no sense\n",
        "percentage = [4, 48, 24, 24]"
      ],
      "execution_count": null,
      "outputs": []
    },
    {
      "cell_type": "markdown",
      "metadata": {
        "id": "f2O1c-jjPbPb"
      },
      "source": [
        "Now let's start making our pie plot"
      ]
    },
    {
      "cell_type": "code",
      "metadata": {
        "id": "zRsRUjVmPof5",
        "outputId": "27a97a73-3ebc-44fe-e5f7-802800d6e38b",
        "colab": {
          "base_uri": "https://localhost:8080/",
          "height": 248
        }
      },
      "source": [
        "plt.pie(percentage, labels= labels, colors= colors, startangle=90, autopct = '%.1f%%')\n",
        "plt.show()"
      ],
      "execution_count": null,
      "outputs": []
    }
  ]
}