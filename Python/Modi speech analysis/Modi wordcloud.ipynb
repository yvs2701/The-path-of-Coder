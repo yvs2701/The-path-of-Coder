{
  "cells": [
    {
      "cell_type": "markdown",
      "metadata": {},
      "source": [
        "# Modi speech analysis\n",
        "*Code written by [Yashvardhan Singh](https://github.com/yvs2701)* \\\n",
        "*The data set was taken from [bash-hike/datasets](https://github.com/bash-hike/datasets/tree/master/speeches-modi)* \\\n",
        "The code generates a wordcloud out of the latest 50 speeches (from the dataset), delivered by the Prime Minister of India Shri&nbsp;Narendra&nbsp;Modi. \\\n",
        "The dataset contains:\n",
        "- Transcript of the speeches given by Narendra Modi made publicly available at https://www.pmindia.gov.in/\n",
        "- The same speeches are available in both CSV and JSON format.\n",
        "- Scraped from https://www.pmindia.gov.in/en/tag/pmspeech/ using Selenium and Python's Beautiful Soup package.\n"
      ]
    },
    {
      "cell_type": "code",
      "execution_count": null,
      "metadata": {},
      "outputs": [],
      "source": [
        "%pip install pandas\n",
        "%pip install nltk\n",
        "%pip install matplotlib\n",
        "%pip install wordcloud\n",
        "from nltk import download, data\n",
        "download('punkt', download_dir='./nltk_data')\n",
        "download('stopwords', download_dir='./nltk_data')\n",
        "data.path.append('./nltk_data')"
      ]
    },
    {
      "cell_type": "code",
      "execution_count": 2,
      "metadata": {
        "colab": {
          "base_uri": "https://localhost:8080/",
          "height": 206
        },
        "id": "YoNhsGtocstf",
        "outputId": "a1f47a9c-51f8-48e9-9fa1-4b51c0441564"
      },
      "outputs": [
        {
          "data": {
            "text/html": [
              "<div>\n",
              "<style scoped>\n",
              "    .dataframe tbody tr th:only-of-type {\n",
              "        vertical-align: middle;\n",
              "    }\n",
              "\n",
              "    .dataframe tbody tr th {\n",
              "        vertical-align: top;\n",
              "    }\n",
              "\n",
              "    .dataframe thead th {\n",
              "        text-align: right;\n",
              "    }\n",
              "</style>\n",
              "<table border=\"1\" class=\"dataframe\">\n",
              "  <thead>\n",
              "    <tr style=\"text-align: right;\">\n",
              "      <th></th>\n",
              "      <th>date</th>\n",
              "      <th>text</th>\n",
              "    </tr>\n",
              "  </thead>\n",
              "  <tbody>\n",
              "    <tr>\n",
              "      <th>0</th>\n",
              "      <td>Aug 30, 2020</td>\n",
              "      <td>My dear countrymen, Namaskar.\\nGenerally, this...</td>\n",
              "    </tr>\n",
              "    <tr>\n",
              "      <th>1</th>\n",
              "      <td>Aug 29, 2020</td>\n",
              "      <td>Our country’s Agriculture Minister Shri Narend...</td>\n",
              "    </tr>\n",
              "    <tr>\n",
              "      <th>2</th>\n",
              "      <td>Aug 27, 2020</td>\n",
              "      <td>My cabinet colleague, Shri Rajnath ji, Chief o...</td>\n",
              "    </tr>\n",
              "    <tr>\n",
              "      <th>3</th>\n",
              "      <td>Aug 15, 2020</td>\n",
              "      <td>My dear countrymen,\\nCongratulations and many ...</td>\n",
              "    </tr>\n",
              "    <tr>\n",
              "      <th>4</th>\n",
              "      <td>Aug 13, 2020</td>\n",
              "      <td>The process of Structural Reforms going on in ...</td>\n",
              "    </tr>\n",
              "  </tbody>\n",
              "</table>\n",
              "</div>"
            ],
            "text/plain": [
              "           date                                               text\n",
              "0  Aug 30, 2020  My dear countrymen, Namaskar.\\nGenerally, this...\n",
              "1  Aug 29, 2020  Our country’s Agriculture Minister Shri Narend...\n",
              "2  Aug 27, 2020  My cabinet colleague, Shri Rajnath ji, Chief o...\n",
              "3  Aug 15, 2020  My dear countrymen,\\nCongratulations and many ...\n",
              "4  Aug 13, 2020  The process of Structural Reforms going on in ..."
            ]
          },
          "execution_count": 2,
          "metadata": {},
          "output_type": "execute_result"
        }
      ],
      "source": [
        "import pandas as pd # data processing, CSV file I/O (e.g. pd.read_csv)\n",
        "\n",
        "# df = pd.read_csv('https://raw.githubusercontent.com/bash-hike/datasets/master/speeches-modi/PM_Modi_speeches.csv') # link to original dataset\n",
        "df = pd.read_csv('./PM_Modi_speeches.csv')\n",
        "\n",
        "df = df[[\"date\", \"text\"]]\n",
        "df.head()"
      ]
    },
    {
      "cell_type": "markdown",
      "metadata": {
        "id": "XmAwAq6S3R-v"
      },
      "source": [
        "## Filtering and cleaning:\n",
        "We will do the following:\n",
        "- extract speeches,\n",
        "- convert the text into lower case,\n",
        "- join all the rows as one single string.\n",
        "- Clean further.\n",
        "\n",
        "Note that we can also do the above by addding punctuations in stopwords list and then removing all the stopwords at once:\n",
        "```py\n",
        "from string import punctuation\n",
        "stop_words.extend(list(punctuation))\n",
        "```"
      ]
    },
    {
      "cell_type": "code",
      "execution_count": 3,
      "metadata": {
        "colab": {
          "base_uri": "https://localhost:8080/"
        },
        "id": "Z4jeISQp1B4p",
        "outputId": "05329c79-81d2-47bf-f4d8-25e7f75cd163"
      },
      "outputs": [
        {
          "name": "stdout",
          "output_type": "stream",
          "text": [
            "Speech contents:\n",
            "my dear countrymen namaskar generally this period is full of festivals fairs are held at various pla ...\n"
          ]
        }
      ],
      "source": [
        "df = df.head(50) # analyse the latest 50 speeches\n",
        "speeches = df['text'].str.lower().str.cat(sep=' ')\n",
        "\n",
        "# remove all characters that are not in range a-z (punctuations, etc.):\n",
        "import re\n",
        "speeches = re.sub(pattern='[^a-z0-9]+', repl=' ', string=speeches) # replaces matched with repl\n",
        "print('Speech contents:')\n",
        "print(speeches[:100], '...')"
      ]
    },
    {
      "cell_type": "code",
      "execution_count": 4,
      "metadata": {
        "colab": {
          "base_uri": "https://localhost:8080/",
          "height": 764
        },
        "id": "GuHiFLDw7_OL",
        "outputId": "3c67064b-1f1d-4ed0-94d3-43b05dc486ed"
      },
      "outputs": [],
      "source": [
        "from nltk.tokenize import word_tokenize\n",
        "word_tokens = word_tokenize(speeches)\n",
        "\n",
        "from nltk.corpus import stopwords\n",
        "stop_words = stopwords.words('english')\n",
        "\n",
        "filtered_words = [word.lower() for word in word_tokens if word not in stop_words]\n",
        "filtered_speech = \" \".join(filtered_words)"
      ]
    },
    {
      "cell_type": "markdown",
      "metadata": {},
      "source": [
        "## Generating the word cloud"
      ]
    },
    {
      "cell_type": "code",
      "execution_count": null,
      "metadata": {
        "id": "8qTnR1lg8VnD"
      },
      "outputs": [],
      "source": [
        "from wordcloud import WordCloud, STOPWORDS\n",
        "import matplotlib.pyplot as plt\n",
        "plt.figure(figsize = (300,300))\n",
        "wc = WordCloud(background_color = 'black', max_words = 1000,  max_font_size = 50)\n",
        "wc.generate(filtered_speech)\n",
        "plt.imshow(wc)\n",
        "plt.axis('off')"
      ]
    }
  ],
  "metadata": {
    "colab": {
      "collapsed_sections": [],
      "name": "Wordcloud.ipynb",
      "provenance": [],
      "toc_visible": true
    },
    "kernelspec": {
      "display_name": "Python 3.10.4 ('notebookenv': venv)",
      "language": "python",
      "name": "python3"
    },
    "language_info": {
      "codemirror_mode": {
        "name": "ipython",
        "version": 3
      },
      "file_extension": ".py",
      "mimetype": "text/x-python",
      "name": "python",
      "nbconvert_exporter": "python",
      "pygments_lexer": "ipython3",
      "version": "3.10.4"
    },
    "vscode": {
      "interpreter": {
        "hash": "7c45dedd93c8150ef204de23c64abd4b5f972329e9a151d564976c913b3e3810"
      }
    }
  },
  "nbformat": 4,
  "nbformat_minor": 0
}
