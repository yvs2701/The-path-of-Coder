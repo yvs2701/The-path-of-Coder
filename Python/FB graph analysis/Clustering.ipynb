{
 "cells": [
  {
   "cell_type": "code",
   "execution_count": 4,
   "metadata": {},
   "outputs": [
    {
     "name": "stdout",
     "output_type": "stream",
     "text": [
      "edges = 88234\n",
      "nodes = 4039\n",
      "original_graph_acc = 0.6055467186200876\n",
      "random_graph_edges = 87877\n",
      "random_graph_acc = 0.010862010220774158\n"
     ]
    }
   ],
   "source": [
    "import networkx as nx;\n",
    "from random import random;\n",
    "\n",
    "# Read data from the dataset, and create graph G_fb\n",
    "G_fb = nx.read_edgelist(\"facebook_combined.txt\", create_using = nx.Graph(), nodetype=int)\n",
    "\n",
    "edges = G_fb.number_of_edges()\n",
    "print(\"edges = \" + str(G_fb.number_of_edges()))\n",
    "\n",
    "n = G_fb.number_of_nodes()\n",
    "print(\"nodes = \" + str(G_fb.number_of_nodes()))\n",
    "\n",
    "# TASK1. Compute the probability whether there is an edge between two vertices.\n",
    "max_edges = (n-1)*n/2\n",
    "P = edges / max_edges\n",
    "\n",
    "# TASK2. Compute the ACC (average clustering coefficient) of G_fb\n",
    "acc = nx.average_clustering(G_fb)\n",
    "print(\"original_graph_acc = \" + str(acc));\n",
    "\n",
    "# TASK3. generate edges in G_rand at random:\n",
    "G_rand = nx.fast_gnp_random_graph(n, P)\n",
    "acc = nx.average_clustering(G_rand)\n",
    "        \n",
    "# Now we print out the number of edges and the ACC of the new graph\n",
    "print(\"random_graph_edges = \" + str(G_rand.number_of_edges()));\n",
    "\n",
    "# av_clust_coeff = ...\n",
    "print(\"random_graph_acc = \" + str(acc));\n",
    "\n",
    "# The results which should be submitted to the grader include the ACC of G_fb and of G_rand. Good luck!\n"
   ]
  },
  {
   "cell_type": "code",
   "execution_count": null,
   "metadata": {},
   "outputs": [],
   "source": []
  }
 ],
 "metadata": {
  "kernelspec": {
   "display_name": "Python 3",
   "language": "python",
   "name": "python3"
  },
  "language_info": {
   "codemirror_mode": {
    "name": "ipython",
    "version": 3
   },
   "file_extension": ".py",
   "mimetype": "text/x-python",
   "name": "python",
   "nbconvert_exporter": "python",
   "pygments_lexer": "ipython3",
   "version": "3.7.1"
  }
 },
 "nbformat": 4,
 "nbformat_minor": 2
}
