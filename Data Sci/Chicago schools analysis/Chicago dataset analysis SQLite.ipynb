{
 "cells": [
  {
   "cell_type": "markdown",
   "metadata": {},
   "source": [
    "# Introduction\n",
    "\n",
    "Using this Python notebook you will:\n",
    "\n",
    "1.  Understand three Chicago datasets\n",
    "2.  Load the three datasets into three tables in a Db2 database\n",
    "3.  Execute SQL queries to answer assignment questions\n"
   ]
  },
  {
   "cell_type": "markdown",
   "metadata": {},
   "source": [
    "## Understand the datasets\n",
    "\n",
    "To complete the assignment problems in this notebook you will be using three datasets that are available on the city of Chicago's Data Portal:\n",
    "\n",
    "1.  <a href=\"https://data.cityofchicago.org/Health-Human-Services/Census-Data-Selected-socioeconomic-indicators-in-C/kn9c-c2s2?utm_medium=Exinfluencer&utm_source=Exinfluencer&utm_content=000026UJ&utm_term=10006555&utm_id=NA-SkillsNetwork-Channel-SkillsNetworkCoursesIBMDeveloperSkillsNetworkDB0201ENSkillsNetwork20127838-2021-01-01\">Socioeconomic Indicators in Chicago</a>\n",
    "2.  <a href=\"https://data.cityofchicago.org/Education/Chicago-Public-Schools-Progress-Report-Cards-2011-/9xs2-f89t?utm_medium=Exinfluencer&utm_source=Exinfluencer&utm_content=000026UJ&utm_term=10006555&utm_id=NA-SkillsNetwork-Channel-SkillsNetworkCoursesIBMDeveloperSkillsNetworkDB0201ENSkillsNetwork20127838-2021-01-01\">Chicago Public Schools</a>\n",
    "3.  <a href=\"https://data.cityofchicago.org/Public-Safety/Crimes-2001-to-present/ijzp-q8t2?utm_medium=Exinfluencer&utm_source=Exinfluencer&utm_content=000026UJ&utm_term=10006555&utm_id=NA-SkillsNetwork-Channel-SkillsNetworkCoursesIBMDeveloperSkillsNetworkDB0201ENSkillsNetwork20127838-2021-01-01\">Chicago Crime Data</a>\n",
    "\n",
    "### 1. Socioeconomic Indicators in Chicago\n",
    "\n",
    "This dataset contains a selection of six socioeconomic indicators of public health significance and a “hardship index,” for each Chicago community area, for the years 2008 – 2012.\n",
    "\n",
    "A detailed description of this dataset and the original dataset can be obtained from the Chicago Data Portal at:\n",
    "[https://data.cityofchicago.org/Health-Human-Services/Census-Data-Selected-socioeconomic-indicators-in-C/kn9c-c2s2](https://data.cityofchicago.org/Health-Human-Services/Census-Data-Selected-socioeconomic-indicators-in-C/kn9c-c2s2?utm_medium=Exinfluencer&utm_source=Exinfluencer&utm_content=000026UJ&utm_term=10006555&utm_id=NA-SkillsNetwork-Channel-SkillsNetworkCoursesIBMDeveloperSkillsNetworkDB0201ENSkillsNetwork20127838-2021-01-01&cm_mmc=Email_Newsletter-\\_-Developer_Ed%2BTech-\\_-WW_WW-\\_-SkillsNetwork-Courses-IBMDeveloperSkillsNetwork-DB0201EN-SkillsNetwork-20127838&cm_mmca1=000026UJ&cm_mmca2=10006555&cm_mmca3=M12345678&cvosrc=email.Newsletter.M12345678&cvo_campaign=000026UJ)\n",
    "\n",
    "### 2. Chicago Public Schools\n",
    "\n",
    "This dataset shows all school level performance data used to create CPS School Report Cards for the 2011-2012 school year. This dataset is provided by the city of Chicago's Data Portal.\n",
    "\n",
    "A detailed description of this dataset and the original dataset can be obtained from the Chicago Data Portal at:\n",
    "[https://data.cityofchicago.org/Education/Chicago-Public-Schools-Progress-Report-Cards-2011-/9xs2-f89t](https://data.cityofchicago.org/Education/Chicago-Public-Schools-Progress-Report-Cards-2011-/9xs2-f89t?utm_medium=Exinfluencer&utm_source=Exinfluencer&utm_content=000026UJ&utm_term=10006555&utm_id=NA-SkillsNetwork-Channel-SkillsNetworkCoursesIBMDeveloperSkillsNetworkDB0201ENSkillsNetwork20127838-2021-01-01&cm_mmc=Email_Newsletter-\\_-Developer_Ed%2BTech-\\_-WW_WW-\\_-SkillsNetwork-Courses-IBMDeveloperSkillsNetwork-DB0201EN-SkillsNetwork-20127838&cm_mmca1=000026UJ&cm_mmca2=10006555&cm_mmca3=M12345678&cvosrc=email.Newsletter.M12345678&cvo_campaign=000026UJ)\n",
    "\n",
    "### 3. Chicago Crime Data\n",
    "\n",
    "This dataset reflects reported incidents of crime (with the exception of murders where data exists for each victim) that occurred in the City of Chicago from 2001 to present, minus the most recent seven days.\n",
    "\n",
    "A detailed description of this dataset and the original dataset can be obtained from the Chicago Data Portal at:\n",
    "[https://data.cityofchicago.org/Public-Safety/Crimes-2001-to-present/ijzp-q8t2](https://data.cityofchicago.org/Public-Safety/Crimes-2001-to-present/ijzp-q8t2?utm_medium=Exinfluencer&utm_source=Exinfluencer&utm_content=000026UJ&utm_term=10006555&utm_id=NA-SkillsNetwork-Channel-SkillsNetworkCoursesIBMDeveloperSkillsNetworkDB0201ENSkillsNetwork20127838-2021-01-01&cm_mmc=Email_Newsletter-\\_-Developer_Ed%2BTech-\\_-WW_WW-\\_-SkillsNetwork-Courses-IBMDeveloperSkillsNetwork-DB0201EN-SkillsNetwork-20127838&cm_mmca1=000026UJ&cm_mmca2=10006555&cm_mmca3=M12345678&cvosrc=email.Newsletter.M12345678&cvo_campaign=000026UJ)\n"
   ]
  },
  {
   "cell_type": "markdown",
   "metadata": {},
   "source": [
    "### Download the datasets\n",
    "\n",
    "This assignment requires you to have these three tables populated with a subset of the whole datasets.\n",
    "\n",
    "In many cases the dataset to be analyzed is available as a .CSV (comma separated values) file, perhaps on the internet. Click on the links below to download and save the datasets (.CSV files):\n",
    "\n",
    "*   <a href=\"https://cf-courses-data.s3.us.cloud-object-storage.appdomain.cloud/IBMDeveloperSkillsNetwork-DB0201EN-SkillsNetwork/labs/FinalModule_Coursera_V5/data/ChicagoCensusData.csv?utm_medium=Exinfluencer&utm_source=Exinfluencer&utm_content=000026UJ&utm_term=10006555&utm_id=NA-SkillsNetwork-Channel-SkillsNetworkCoursesIBMDeveloperSkillsNetworkDB0201ENSkillsNetwork20127838-2021-01-01\" target=\"_blank\">Chicago Census Data</a>\n",
    "\n",
    "*   <a href=\"https://cf-courses-data.s3.us.cloud-object-storage.appdomain.cloud/IBMDeveloperSkillsNetwork-DB0201EN-SkillsNetwork/labs/FinalModule_Coursera_V5/data/ChicagoPublicSchools.csv?utm_medium=Exinfluencer&utm_source=Exinfluencer&utm_content=000026UJ&utm_term=10006555&utm_id=NA-SkillsNetwork-Channel-SkillsNetworkCoursesIBMDeveloperSkillsNetworkDB0201ENSkillsNetwork20127838-2021-01-01\" target=\"_blank\">Chicago Public Schools</a>\n",
    "\n",
    "*   <a href=\"https://cf-courses-data.s3.us.cloud-object-storage.appdomain.cloud/IBMDeveloperSkillsNetwork-DB0201EN-SkillsNetwork/labs/FinalModule_Coursera_V5/data/ChicagoCrimeData.csv?utm_medium=Exinfluencer&utm_source=Exinfluencer&utm_content=000026UJ&utm_term=10006555&utm_id=NA-SkillsNetwork-Channel-SkillsNetworkCoursesIBMDeveloperSkillsNetworkDB0201ENSkillsNetwork20127838-2021-01-01\" target=\"_blank\">Chicago Crime Data</a>\n",
    "\n",
    "**NOTE:** Ensure you have downloaded the datasets using the links above instead of directly from the Chicago Data Portal. The versions linked here are subsets of the original datasets and have some of the column names modified to be more database friendly which will make it easier to complete this assignment.\n"
   ]
  },
  {
   "cell_type": "markdown",
   "metadata": {},
   "source": [
    "### Store the datasets in database tables\n",
    "\n",
    "To analyze the data using SQL, it first needs to be loaded into SQLite DB.\n",
    "We will create three tables in as under:\n",
    "\n",
    "1.  **CENSUS_DATA**\n",
    "2.  **CHICAGO_PUBLIC_SCHOOLS**\n",
    "3.  **CHICAGO_CRIME_DATA**\n",
    "\n",
    "Let us now load the ipython-sql  extension and establish a connection with the database\n",
    "\n",
    "*   Here you will be loading the csv files into the pandas Dataframe and then loading the data into the above mentioned sqlite tables.\n",
    "\n",
    "*   Next you will be connecting to the sqlite database  **FinalDB**.\n",
    "\n",
    "Refer to the previous lab for hints .\n",
    "\n",
    "<a href =\"https://cf-courses-data.s3.us.cloud-object-storage.appdomain.cloud/IBMDeveloperSkillsNetwork-DB0201EN-SkillsNetwork/labs/Module%205/DB0201EN-Week3-1-4-Analyzing_SQLite.ipynb?utm_medium=Exinfluencer&utm_source=Exinfluencer&utm_content=000026UJ&utm_term=10006555&utm_id=NA-SkillsNetwork-Channel-SkillsNetworkCoursesIBMDeveloperSkillsNetworkDB0201ENSkillsNetwork22-2022-01-01\">Hands-on Lab: Analyzing a real World Data Set</a>\n"
   ]
  },
  {
   "cell_type": "code",
   "execution_count": 1,
   "metadata": {},
   "outputs": [
    {
     "name": "stdout",
     "output_type": "stream",
     "text": [
      "Succesfully connected to FinalDB\n"
     ]
    }
   ],
   "source": [
    "import sqlite3\n",
    "try:\n",
    "    conn = sqlite3.connect('./FinalDB.db')\n",
    "    print('Succesfully connected to FinalDB')\n",
    "except Exception as e:\n",
    "    print('Some error occured', e)"
   ]
  },
  {
   "cell_type": "markdown",
   "metadata": {},
   "source": [
    "## Problems\n",
    "\n",
    "Now write and execute SQL queries to solve assignment problems\n",
    "\n",
    "### Problem 1\n",
    "\n",
    "##### Find the total number of crimes recorded in the CRIME table.\n"
   ]
  },
  {
   "cell_type": "code",
   "execution_count": 2,
   "metadata": {},
   "outputs": [
    {
     "name": "stdout",
     "output_type": "stream",
     "text": [
      "Total Crimes\n",
      "(533,)\n"
     ]
    }
   ],
   "source": [
    "cur = conn.execute(\"SELECT COUNT(ID) as 'Total Crimes' FROM ChicagoCrime;\")\n",
    "print(cur.description[0][0])\n",
    "\n",
    "for row in cur:\n",
    "    print(row)"
   ]
  },
  {
   "cell_type": "markdown",
   "metadata": {},
   "source": [
    "### Problem 2\n",
    "\n",
    "##### List community areas with per capita income less than 11000.\n"
   ]
  },
  {
   "cell_type": "code",
   "execution_count": 3,
   "metadata": {},
   "outputs": [
    {
     "name": "stdout",
     "output_type": "stream",
     "text": [
      "Community Area Income \n",
      "('West Garfield Park', 10934)\n",
      "('South Lawndale', 10402)\n",
      "('Fuller Park', 10432)\n",
      "('Riverdale', 8201)\n"
     ]
    }
   ],
   "source": [
    "cur = conn.execute('''SELECT COMMUNITY_AREA_NAME as 'Community Area', PER_CAPITA_INCOME as 'Income'\n",
    "                        FROM ChicagoCensus\n",
    "                        WHERE PER_CAPITA_INCOME < 11000;''')\n",
    "for colInfo in cur.description:\n",
    "    print(colInfo[0], end = ' ')\n",
    "print()\n",
    "\n",
    "for row in cur:\n",
    "    print(row)"
   ]
  },
  {
   "cell_type": "markdown",
   "metadata": {},
   "source": [
    "### Problem 3\n",
    "\n",
    "##### List all case numbers for crimes  involving minors?(children are not considered minors for the purposes of crime analysis)\n"
   ]
  },
  {
   "cell_type": "code",
   "execution_count": 4,
   "metadata": {},
   "outputs": [
    {
     "name": "stdout",
     "output_type": "stream",
     "text": [
      "CASE_NUMBER PRIMARY_TYPE DESCRIPTION \n",
      "('HN567387', 'OFFENSE INVOLVING CHILDREN', 'AGG SEX ASSLT OF CHILD FAM MBR')\n",
      "('HR391350', 'OFFENSE INVOLVING CHILDREN', 'SEX ASSLT OF CHILD BY FAM MBR')\n",
      "('HM768251', 'OFFENSE INVOLVING CHILDREN', 'CRIM SEX ABUSE BY FAM MEMBER')\n",
      "('HT394616', 'OFFENSE INVOLVING CHILDREN', 'AGG CRIM SEX ABUSE FAM MEMBER')\n",
      "('HL266884', 'LIQUOR LAW VIOLATION', 'SELL/GIVE/DEL LIQUOR TO MINOR')\n",
      "('HK238408', 'LIQUOR LAW VIOLATION', 'ILLEGAL CONSUMPTION BY MINOR')\n",
      "('HN144152', 'KIDNAPPING', 'CHILD ABDUCTION/STRANGER')\n"
     ]
    }
   ],
   "source": [
    "cur = conn.execute('''SELECT CASE_NUMBER, PRIMARY_TYPE, DESCRIPTION\n",
    "                        FROM ChicagoCrime\n",
    "                        WHERE PRIMARY_TYPE LIKE '%CHILD%'\n",
    "                        OR DESCRIPTION LIKE '%CHILD%'\n",
    "                        or DESCRIPTION LIKE '%MINOR%';''')\n",
    "for colInfo in cur.description:\n",
    "    print(colInfo[0], end = ' ')\n",
    "print()\n",
    "\n",
    "for row in cur:\n",
    "    print(row)"
   ]
  },
  {
   "cell_type": "markdown",
   "metadata": {},
   "source": [
    "### Problem 4\n",
    "\n",
    "##### List all kidnapping crimes involving a child?\n"
   ]
  },
  {
   "cell_type": "code",
   "execution_count": 5,
   "metadata": {},
   "outputs": [
    {
     "name": "stdout",
     "output_type": "stream",
     "text": [
      "ID CASE_NUMBER PRIMARY_TYPE DESCRIPTION \n",
      "(5276766, 'HN144152', 'KIDNAPPING', 'CHILD ABDUCTION/STRANGER')\n"
     ]
    }
   ],
   "source": [
    "cur = conn.execute('''SELECT ID, CASE_NUMBER, PRIMARY_TYPE, DESCRIPTION\n",
    "                        FROM ChicagoCrime\n",
    "                        WHERE PRIMARY_TYPE = 'KIDNAPPING';''')\n",
    "for colInfo in cur.description:\n",
    "    print(colInfo[0], end = ' ')\n",
    "print()\n",
    "\n",
    "for row in cur:\n",
    "    print(row)"
   ]
  },
  {
   "cell_type": "markdown",
   "metadata": {},
   "source": [
    "### Problem 5\n",
    "\n",
    "##### What kinds of crimes were recorded at schools?\n"
   ]
  },
  {
   "cell_type": "code",
   "execution_count": 6,
   "metadata": {},
   "outputs": [
    {
     "name": "stdout",
     "output_type": "stream",
     "text": [
      "PRIMARY_TYPE DESCRIPTION LOCATION_DESCRIPTION \n",
      "('BATTERY', 'SIMPLE', 'SCHOOL, PUBLIC, GROUNDS')\n",
      "('BATTERY', 'PRO EMP HANDS NO/MIN INJURY', 'SCHOOL, PUBLIC, BUILDING')\n",
      "('BATTERY', 'SIMPLE', 'SCHOOL, PUBLIC, BUILDING')\n",
      "('BATTERY', 'SIMPLE', 'SCHOOL, PUBLIC, BUILDING')\n",
      "('BATTERY', 'SIMPLE', 'SCHOOL, PUBLIC, GROUNDS')\n",
      "('CRIMINAL DAMAGE', 'TO VEHICLE', 'SCHOOL, PUBLIC, GROUNDS')\n",
      "('NARCOTICS', 'POSS: HEROIN(WHITE)', 'SCHOOL, PUBLIC, GROUNDS')\n",
      "('NARCOTICS', 'MANU/DEL:CANNABIS 10GM OR LESS', 'SCHOOL, PUBLIC, BUILDING')\n",
      "('ASSAULT', 'PRO EMP HANDS NO/MIN INJURY', 'SCHOOL, PUBLIC, GROUNDS')\n",
      "('CRIMINAL TRESPASS', 'TO LAND', 'SCHOOL, PUBLIC, GROUNDS')\n",
      "('PUBLIC PEACE VIOLATION', 'BOMB THREAT', 'SCHOOL, PRIVATE, BUILDING')\n",
      "('PUBLIC PEACE VIOLATION', 'BOMB THREAT', 'SCHOOL, PUBLIC, BUILDING')\n"
     ]
    }
   ],
   "source": [
    "cur = conn.execute('''SELECT PRIMARY_TYPE, DESCRIPTION, LOCATION_DESCRIPTION\n",
    "                        FROM ChicagoCrime\n",
    "                        WHERE LOCATION_DESCRIPTION LIKE '%SCHOOL%';''')\n",
    "for colInfo in cur.description:\n",
    "    print(colInfo[0], end = ' ')\n",
    "print()\n",
    "\n",
    "for row in cur:\n",
    "    print(row)"
   ]
  },
  {
   "cell_type": "markdown",
   "metadata": {},
   "source": [
    "### Problem 6\n",
    "\n",
    "##### List the average safety score for each type of school.\n"
   ]
  },
  {
   "cell_type": "code",
   "execution_count": 7,
   "metadata": {},
   "outputs": [
    {
     "name": "stdout",
     "output_type": "stream",
     "text": [
      "NAME_OF_SCHOOL SAFETY_SCORE \n",
      "('Abraham Lincoln Elementary School', 99)\n",
      "('Adam Clayton Powell Paideia Community Academy Elementary School', 54)\n",
      "('Adlai E Stevenson Elementary School', 61)\n",
      "('Agustin Lara Elementary Academy', 56)\n",
      "('Air Force Academy High School', 49)\n",
      "('Albany Park Multicultural Academy', 66)\n",
      "('Albert G Lane Technical High School', 88)\n",
      "('Albert R Sabin Elementary Magnet School', 67)\n",
      "('Alcott High School for the Humanities', 70)\n",
      "('Alessandro Volta Elementary School', 43)\n"
     ]
    }
   ],
   "source": [
    "cur = conn.execute('''SELECT NAME_OF_SCHOOL, SAFETY_SCORE\n",
    "                        FROM ChicagoSchools LIMIT 10;''')\n",
    "for colInfo in cur.description:\n",
    "    print(colInfo[0], end = ' ')\n",
    "print()\n",
    "\n",
    "for row in cur:\n",
    "    print(row)"
   ]
  },
  {
   "cell_type": "markdown",
   "metadata": {},
   "source": [
    "### Problem 7\n",
    "\n",
    "##### List 5 community areas with highest % of households below poverty line\n"
   ]
  },
  {
   "cell_type": "code",
   "execution_count": 8,
   "metadata": {},
   "outputs": [
    {
     "name": "stdout",
     "output_type": "stream",
     "text": [
      "COMMUNITY_AREA_NAME PERCENT_HOUSEHOLDS_BELOW_POVERTY \n",
      "('Riverdale', 56.5)\n",
      "('Fuller Park', 51.2)\n",
      "('Englewood', 46.6)\n",
      "('North Lawndale', 43.1)\n",
      "('East Garfield Park', 42.4)\n"
     ]
    }
   ],
   "source": [
    "# DOESN'T WORK IN SQLITE:\n",
    "# cur = conn.execute('''SELECT TOP 5 COMMUNITY_AREA_NAME, PERCENT_HOUSEHOLDS_BELOW_POVERTY\n",
    "#                         FROM ChicagoCensus\n",
    "#                         ORDER BY PERCENT_HOUSEHOLDS_BELOW_POVERTY DESC;''')\n",
    "cur = conn.execute('''SELECT COMMUNITY_AREA_NAME, PERCENT_HOUSEHOLDS_BELOW_POVERTY\n",
    "                        FROM ChicagoCensus\n",
    "                        ORDER BY PERCENT_HOUSEHOLDS_BELOW_POVERTY DESC LIMIT 5;''')\n",
    "for colInfo in cur.description:\n",
    "    print(colInfo[0], end = ' ')\n",
    "print()\n",
    "\n",
    "for row in cur:\n",
    "    print(row)"
   ]
  },
  {
   "cell_type": "markdown",
   "metadata": {},
   "source": [
    "### Problem 8\n",
    "\n",
    "##### Which community area is most crime prone?\n"
   ]
  },
  {
   "cell_type": "code",
   "execution_count": 9,
   "metadata": {},
   "outputs": [
    {
     "name": "stdout",
     "output_type": "stream",
     "text": [
      "Community Area, Crime Rate, \n",
      "('Austin', 43)\n"
     ]
    }
   ],
   "source": [
    "cur = conn.execute('''SELECT COMMUNITY_AREA_NAME as 'Community Area',\n",
    "                        Frequency as 'Crime Rate'\n",
    "                        FROM ChicagoCensus join (\n",
    "                            SELECT COMMUNITY_AREA_NUMBER, COUNT(COMMUNITY_AREA_NUMBER) as Frequency\n",
    "                            from ChicagoCrime\n",
    "                            GROUP BY COMMUNITY_AREA_NUMBER\n",
    "                            HAVING Frequency = (\n",
    "                                SELECT COUNT(COMMUNITY_AREA_NUMBER) as Frequency\n",
    "                                FROM ChicagoCrime\n",
    "                                GROUP BY COMMUNITY_AREA_NUMBER\n",
    "                                ORDER BY Frequency DESC LIMIT 1\n",
    "                            )\n",
    "                        ) as CRIME_RECORDS\n",
    "                        ON ChicagoCensus.COMMUNITY_AREA_NUMBER = CRIME_RECORDS.COMMUNITY_AREA_NUMBER\n",
    "                        ORDER BY Frequency DESC;''')\n",
    "\n",
    "\n",
    "for colInfo in cur.description:\n",
    "    print(colInfo[0], end = ', ')\n",
    "print()\n",
    "\n",
    "for row in cur:\n",
    "    print(row)"
   ]
  },
  {
   "cell_type": "markdown",
   "metadata": {},
   "source": [
    "### Problem 9\n",
    "\n",
    "##### Use a sub-query to find the name of the community area with highest hardship index\n"
   ]
  },
  {
   "cell_type": "code",
   "execution_count": 10,
   "metadata": {},
   "outputs": [
    {
     "name": "stdout",
     "output_type": "stream",
     "text": [
      "COMMUNITY_AREA_NAME, HARDSHIP_INDEX, \n",
      "('Riverdale', 98)\n"
     ]
    }
   ],
   "source": [
    "cur = conn.execute('''SELECT COMMUNITY_AREA_NAME, HARDSHIP_INDEX\n",
    "                        FROM ChicagoCensus\n",
    "                        WHERE HARDSHIP_INDEX = (\n",
    "                            SELECT MAX(HARDSHIP_INDEX) as HARDSHIP_INDEX\n",
    "                            FROM ChicagoCensus\n",
    "                        );''')\n",
    "for colInfo in cur.description:\n",
    "    print(colInfo[0], end = ', ')\n",
    "print()\n",
    "\n",
    "for row in cur:\n",
    "    print(row)"
   ]
  },
  {
   "cell_type": "markdown",
   "metadata": {},
   "source": [
    "### Problem 10\n",
    "\n",
    "##### Use a sub-query to determine the Community Area Name with most number of crimes?\n"
   ]
  },
  {
   "cell_type": "code",
   "execution_count": 11,
   "metadata": {},
   "outputs": [
    {
     "name": "stdout",
     "output_type": "stream",
     "text": [
      "Community Area, Crime Rate, \n",
      "('Austin', 43)\n"
     ]
    }
   ],
   "source": [
    "cur = conn.execute('''SELECT COMMUNITY_AREA_NAME as 'Community Area',\n",
    "                        Frequency as 'Crime Rate'\n",
    "                        FROM ChicagoCensus join (\n",
    "                            SELECT COMMUNITY_AREA_NUMBER, COUNT(COMMUNITY_AREA_NUMBER) as Frequency\n",
    "                            from ChicagoCrime\n",
    "                            GROUP BY COMMUNITY_AREA_NUMBER\n",
    "                            HAVING Frequency = (\n",
    "                                SELECT COUNT(COMMUNITY_AREA_NUMBER) as Frequency\n",
    "                                FROM ChicagoCrime\n",
    "                                GROUP BY COMMUNITY_AREA_NUMBER\n",
    "                                ORDER BY Frequency DESC LIMIT 1\n",
    "                            )\n",
    "                        ) as CRIME_RECORDS\n",
    "                        ON ChicagoCensus.COMMUNITY_AREA_NUMBER = CRIME_RECORDS.COMMUNITY_AREA_NUMBER\n",
    "                        ORDER BY Frequency DESC;''')\n",
    "\n",
    "\n",
    "for colInfo in cur.description:\n",
    "    print(colInfo[0], end = ', ')\n",
    "print()\n",
    "\n",
    "for row in cur:\n",
    "    print(row)"
   ]
  },
  {
   "cell_type": "code",
   "execution_count": 12,
   "metadata": {},
   "outputs": [],
   "source": [
    "conn.close()"
   ]
  },
  {
   "cell_type": "markdown",
   "metadata": {},
   "source": [
    "Copyright © 2020 This notebook and its source code are released under the terms of the [MIT License](https://bigdatauniversity.com/mit-license?utm_medium=Exinfluencer&utm_source=Exinfluencer&utm_content=000026UJ&utm_term=10006555&utm_id=NA-SkillsNetwork-Channel-SkillsNetworkCoursesIBMDeveloperSkillsNetworkDB0201ENSkillsNetwork20127838-2021-01-01&cm_mmc=Email_Newsletter-\\_-Developer_Ed%2BTech-\\_-WW_WW-\\_-SkillsNetwork-Courses-IBMDeveloperSkillsNetwork-DB0201EN-SkillsNetwork-20127838&cm_mmca1=000026UJ&cm_mmca2=10006555&cm_mmca3=M12345678&cvosrc=email.Newsletter.M12345678&cvo_campaign=000026UJ).\n"
   ]
  }
 ],
 "metadata": {
  "kernelspec": {
   "display_name": "Python 3 (ipykernel)",
   "language": "python",
   "name": "python3"
  },
  "language_info": {
   "codemirror_mode": {
    "name": "ipython",
    "version": 3
   },
   "file_extension": ".py",
   "mimetype": "text/x-python",
   "name": "python",
   "nbconvert_exporter": "python",
   "pygments_lexer": "ipython3",
   "version": "3.11.1"
  },
  "vscode": {
   "interpreter": {
    "hash": "5c0ef0432168e7d3e765287914c045062c7f7809c0fc28ba75dad6d6d536bf43"
   }
  },
  "widgets": {
   "state": {},
   "version": "1.1.2"
  }
 },
 "nbformat": 4,
 "nbformat_minor": 4
}
